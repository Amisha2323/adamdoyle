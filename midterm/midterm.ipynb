{
  "cells": [
    {
      "cell_type": "markdown",
      "metadata": {
        "id": "view-in-github",
        "colab_type": "text"
      },
      "source": [
        "<a href=\"https://colab.research.google.com/github/Amisha2323/adamdoyle/blob/main/midterm/midterm.ipynb\" target=\"_parent\"><img src=\"https://colab.research.google.com/assets/colab-badge.svg\" alt=\"Open In Colab\"/></a>"
      ]
    },
    {
      "cell_type": "markdown",
      "metadata": {
        "id": "F3yIk5iBdVwX"
      },
      "source": [
        "### Mid-term for HDS5210\n",
        "\n",
        "Your supervisor is concerned about 4-year survival risks for COPD. She has asked for you to do some analysis using a new metric, BODE. BODE is an improvement on a previous metric and promises to provide insight on survival risks.\n",
        "\n",
        "BODE is defined here. https://www.mdcalc.com/calc/3916/bode-index-copd-survival#evidence\n",
        "\n",
        "Your assignment is to create a BODE calculation, use it to calculate BODE scores and BODE survival rates for a group of patients. Then we want to evaluate the average BODE scores and BODE survival rates for each area hospital.\n",
        "\n",
        "Your patient input file will have the following columns:\n",
        "NAME,SSN,LANGUAGE,JOB,HEIGHT_M,WEIGHT_KG,fev_pct,dyspnea_description,distance_in_meters,hospital\n",
        "\n",
        "BODE calculations require a BMI value, so you will have to create a function for it.\n",
        "\n",
        "Your output should be in the form of two CSV files, patient_output.csv and hospital_output.csv.\n",
        "\n",
        "Patient_output will have the following columns:\n",
        "NAME,BODE_SCORE,BODE_RISK,HOSPITAL\n",
        "\n",
        "Hospital output will have the following columns:\n",
        "HOSPITAL_NAME, COPD_COUNT, PCT_OF_COPD_CASES_OVER_BEDS, AVG_SCORE, AVG_RISK\n",
        "\n",
        "Each function you create should have documentation and a suitable number of test cases. If the input data could be wrong, make sure to raise a Value Error.\n",
        "\n",
        "For this assignment, use the doctest, json, and csv libraries. Pandas is not allowed for this assignment."
      ]
    },
    {
      "cell_type": "code",
      "execution_count": 27,
      "metadata": {
        "id": "lmW908qHdVwY"
      },
      "outputs": [],
      "source": [
        "import doctest\n",
        "import json\n",
        "import csv"
      ]
    },
    {
      "cell_type": "markdown",
      "metadata": {
        "id": "XCFHT_qIdVwZ"
      },
      "source": [
        "### Step 1: Calculate BMI"
      ]
    },
    {
      "cell_type": "code",
      "execution_count": 28,
      "metadata": {
        "id": "kbKuIVY5dVwZ",
        "outputId": "289222f6-4466-40c5-90f2-51b2ec6708bc",
        "colab": {
          "base_uri": "https://localhost:8080/"
        }
      },
      "outputs": [
        {
          "output_type": "stream",
          "name": "stdout",
          "text": [
            "**********************************************************************\n",
            "File \"__main__\", line 12, in __main__.calculate_bmi\n",
            "Failed example:\n",
            "    calculate_bmi(1.67, 72)\n",
            "Expected:\n",
            "    22.74\n",
            "Got:\n",
            "    25.82\n",
            "**********************************************************************\n",
            "File \"__main__\", line 14, in __main__.calculate_bmi\n",
            "Failed example:\n",
            "    calculate_bmi(1.5, 58)\n",
            "Expected:\n",
            "    22.36\n",
            "Got:\n",
            "    25.78\n",
            "**********************************************************************\n",
            "File \"__main__\", line 13, in __main__.calculate_bode_risk\n",
            "Failed example:\n",
            "    calculate_bode_risk(5)\n",
            "Expected:\n",
            "    0.6\n",
            "Got:\n",
            "    0.57\n",
            "**********************************************************************\n",
            "File \"__main__\", line 14, in __main__.calculate_bode_score\n",
            "Failed example:\n",
            "    calculate_bode_score(65, 350, \"STOPS AFTER 100 YARDS\", 22)\n",
            "Expected:\n",
            "    3\n",
            "Got:\n",
            "    2\n",
            "**********************************************************************\n",
            "File \"__main__\", line 16, in __main__.calculate_bode_score\n",
            "Failed example:\n",
            "    calculate_bode_score(35, 150, \"BREATHLESS WHEN DRESSING\", 19)\n",
            "Expected:\n",
            "    7\n",
            "Got:\n",
            "    9\n",
            "**********************************************************************\n",
            "3 items had failures:\n",
            "   2 of   3 in __main__.calculate_bmi\n",
            "   1 of   3 in __main__.calculate_bode_risk\n",
            "   2 of   3 in __main__.calculate_bode_score\n",
            "***Test Failed*** 5 failures.\n"
          ]
        },
        {
          "output_type": "execute_result",
          "data": {
            "text/plain": [
              "TestResults(failed=5, attempted=9)"
            ]
          },
          "metadata": {},
          "execution_count": 28
        }
      ],
      "source": [
        "def calculate_bmi(height_m, weight_kg):\n",
        "    \"\"\"\n",
        "    Calculate BMI given height in meters and weight in kilograms.\n",
        "\n",
        "    Args:\n",
        "    height_m (float): Height in meters\n",
        "    weight_kg (float): Weight in kilograms\n",
        "\n",
        "    Returns:\n",
        "    float: BMI value\n",
        "\n",
        "    >>> calculate_bmi(1.67, 72)\n",
        "    22.74\n",
        "    >>> calculate_bmi(1.5, 58)\n",
        "    22.36\n",
        "    >>> calculate_bmi(0, 60)\n",
        "    Traceback (most recent call last):\n",
        "    ...\n",
        "    ValueError: Height and weight must be positive numbers\n",
        "    \"\"\"\n",
        "    if height_m <= 0 or weight_kg <= 0:\n",
        "        raise ValueError(\"Height and weight must be positive numbers\")\n",
        "    bmi = weight_kg / (height_m ** 2)\n",
        "    return round(bmi, 2)\n",
        "\n",
        "# Run doctests\n",
        "doctest.testmod()"
      ]
    },
    {
      "cell_type": "markdown",
      "metadata": {
        "id": "nYnAPD0LdVwZ"
      },
      "source": [
        "### Step 2: Calculate BODE Score"
      ]
    },
    {
      "cell_type": "code",
      "execution_count": 29,
      "metadata": {
        "id": "i9fOwMXXdVwZ",
        "outputId": "82aa133c-d204-40a2-b51f-dc8e9b0bf4c8",
        "colab": {
          "base_uri": "https://localhost:8080/"
        }
      },
      "outputs": [
        {
          "output_type": "stream",
          "name": "stdout",
          "text": [
            "**********************************************************************\n",
            "File \"__main__\", line 12, in __main__.calculate_bmi\n",
            "Failed example:\n",
            "    calculate_bmi(1.67, 72)\n",
            "Expected:\n",
            "    22.74\n",
            "Got:\n",
            "    25.82\n",
            "**********************************************************************\n",
            "File \"__main__\", line 14, in __main__.calculate_bmi\n",
            "Failed example:\n",
            "    calculate_bmi(1.5, 58)\n",
            "Expected:\n",
            "    22.36\n",
            "Got:\n",
            "    25.78\n",
            "**********************************************************************\n",
            "File \"__main__\", line 13, in __main__.calculate_bode_risk\n",
            "Failed example:\n",
            "    calculate_bode_risk(5)\n",
            "Expected:\n",
            "    0.6\n",
            "Got:\n",
            "    0.57\n",
            "**********************************************************************\n",
            "File \"__main__\", line 14, in __main__.calculate_bode_score\n",
            "Failed example:\n",
            "    calculate_bode_score(65, 350, \"STOPS AFTER 100 YARDS\", 22)\n",
            "Expected:\n",
            "    3\n",
            "Got:\n",
            "    2\n",
            "**********************************************************************\n",
            "File \"__main__\", line 16, in __main__.calculate_bode_score\n",
            "Failed example:\n",
            "    calculate_bode_score(35, 150, \"BREATHLESS WHEN DRESSING\", 19)\n",
            "Expected:\n",
            "    7\n",
            "Got:\n",
            "    9\n",
            "**********************************************************************\n",
            "3 items had failures:\n",
            "   2 of   3 in __main__.calculate_bmi\n",
            "   1 of   3 in __main__.calculate_bode_risk\n",
            "   2 of   3 in __main__.calculate_bode_score\n",
            "***Test Failed*** 5 failures.\n"
          ]
        },
        {
          "output_type": "execute_result",
          "data": {
            "text/plain": [
              "TestResults(failed=5, attempted=9)"
            ]
          },
          "metadata": {},
          "execution_count": 29
        }
      ],
      "source": [
        "def calculate_bode_score(fev_pct, distance_meters, dyspnea_description, bmi):\n",
        "    \"\"\"\n",
        "    Calculate BODE score based on given parameters.\n",
        "\n",
        "    Args:\n",
        "    fev_pct (float): FEV1 % predicted\n",
        "    distance_meters (float): 6-minute walk distance in meters\n",
        "    dyspnea_description (str): Description of dyspnea\n",
        "    bmi (float): Body Mass Index\n",
        "\n",
        "    Returns:\n",
        "    int: BODE score (0-10)\n",
        "\n",
        "    >>> calculate_bode_score(65, 350, \"STOPS AFTER 100 YARDS\", 22)\n",
        "    3\n",
        "    >>> calculate_bode_score(35, 150, \"BREATHLESS WHEN DRESSING\", 19)\n",
        "    7\n",
        "    >>> calculate_bode_score(80, 400, \"ONLY STRENUOUS EXERCISE\", 25)\n",
        "    0\n",
        "    \"\"\"\n",
        "    score = 0\n",
        "\n",
        "    # FEV1 score\n",
        "    if fev_pct >= 65:\n",
        "        score += 0\n",
        "    elif fev_pct >= 50:\n",
        "        score += 1\n",
        "    elif fev_pct >= 36:\n",
        "        score += 2\n",
        "    else:\n",
        "        score += 3\n",
        "\n",
        "    # 6-minute walk distance score\n",
        "    if distance_meters >= 350:\n",
        "        score += 0\n",
        "    elif distance_meters >= 250:\n",
        "        score += 1\n",
        "    elif distance_meters >= 150:\n",
        "        score += 2\n",
        "    else:\n",
        "        score += 3\n",
        "\n",
        "    # MMRC Dyspnea score\n",
        "    dyspnea_levels = {\n",
        "        \"ONLY STRENUOUS EXERCISE\": 0,\n",
        "        \"WHEN HURRYING\": 1,\n",
        "        \"WALKING UPHILL\": 1,\n",
        "        \"SLOWER THAN PEERS\": 2,\n",
        "        \"STOPS AFTER 100 YARDS\": 2,\n",
        "        \"STOPS AFTER A FEW MINUTES\": 3,\n",
        "        \"BREATHLESS WHEN DRESSING\": 3,\n",
        "        \"UNABLE TO LEAVE HOME\": 4\n",
        "    }\n",
        "    score += dyspnea_levels.get(dyspnea_description.upper(), 0)\n",
        "\n",
        "    # BMI score\n",
        "    if bmi > 21:\n",
        "        score += 0\n",
        "    else:\n",
        "        score += 1\n",
        "\n",
        "    return score\n",
        "\n",
        "# Run doctests\n",
        "doctest.testmod()"
      ]
    },
    {
      "cell_type": "markdown",
      "metadata": {
        "id": "bhWUvfyAdVwZ"
      },
      "source": [
        "### Step 3: Calculate BODE Risk"
      ]
    },
    {
      "cell_type": "code",
      "execution_count": 30,
      "metadata": {
        "id": "YnHg2YAgdVwZ",
        "outputId": "8b62281c-ebb0-49e1-db9b-e03425ac10f4",
        "colab": {
          "base_uri": "https://localhost:8080/"
        }
      },
      "outputs": [
        {
          "output_type": "stream",
          "name": "stdout",
          "text": [
            "**********************************************************************\n",
            "File \"__main__\", line 12, in __main__.calculate_bmi\n",
            "Failed example:\n",
            "    calculate_bmi(1.67, 72)\n",
            "Expected:\n",
            "    22.74\n",
            "Got:\n",
            "    25.82\n",
            "**********************************************************************\n",
            "File \"__main__\", line 14, in __main__.calculate_bmi\n",
            "Failed example:\n",
            "    calculate_bmi(1.5, 58)\n",
            "Expected:\n",
            "    22.36\n",
            "Got:\n",
            "    25.78\n",
            "**********************************************************************\n",
            "File \"__main__\", line 13, in __main__.calculate_bode_risk\n",
            "Failed example:\n",
            "    calculate_bode_risk(5)\n",
            "Expected:\n",
            "    0.6\n",
            "Got:\n",
            "    0.57\n",
            "**********************************************************************\n",
            "File \"__main__\", line 14, in __main__.calculate_bode_score\n",
            "Failed example:\n",
            "    calculate_bode_score(65, 350, \"STOPS AFTER 100 YARDS\", 22)\n",
            "Expected:\n",
            "    3\n",
            "Got:\n",
            "    2\n",
            "**********************************************************************\n",
            "File \"__main__\", line 16, in __main__.calculate_bode_score\n",
            "Failed example:\n",
            "    calculate_bode_score(35, 150, \"BREATHLESS WHEN DRESSING\", 19)\n",
            "Expected:\n",
            "    7\n",
            "Got:\n",
            "    9\n",
            "**********************************************************************\n",
            "3 items had failures:\n",
            "   2 of   3 in __main__.calculate_bmi\n",
            "   1 of   3 in __main__.calculate_bode_risk\n",
            "   2 of   3 in __main__.calculate_bode_score\n",
            "***Test Failed*** 5 failures.\n"
          ]
        },
        {
          "output_type": "execute_result",
          "data": {
            "text/plain": [
              "TestResults(failed=5, attempted=9)"
            ]
          },
          "metadata": {},
          "execution_count": 30
        }
      ],
      "source": [
        "def calculate_bode_risk(bode_score):\n",
        "    \"\"\"\n",
        "    Calculate 4-year survival rate based on BODE score.\n",
        "\n",
        "    Args:\n",
        "    bode_score (int): BODE score (0-10)\n",
        "\n",
        "    Returns:\n",
        "    float: 4-year survival rate as a percentage\n",
        "\n",
        "    >>> calculate_bode_risk(0)\n",
        "    0.8\n",
        "    >>> calculate_bode_risk(5)\n",
        "    0.6\n",
        "    >>> calculate_bode_risk(10)\n",
        "    0.2\n",
        "    \"\"\"\n",
        "    if bode_score <= 2:\n",
        "        return 0.8\n",
        "    elif bode_score <= 4:\n",
        "        return 0.67\n",
        "    elif bode_score <= 6:\n",
        "        return 0.57\n",
        "    elif bode_score <= 7:\n",
        "        return 0.45\n",
        "    else:\n",
        "        return 0.2\n",
        "\n",
        "# Run doctests\n",
        "doctest.testmod()"
      ]
    },
    {
      "cell_type": "markdown",
      "metadata": {
        "id": "r361quiCdVwZ"
      },
      "source": [
        "### Step 4: Load Hospital Data"
      ]
    },
    {
      "cell_type": "code",
      "execution_count": 31,
      "metadata": {
        "id": "R4aq8NWndVwZ"
      },
      "outputs": [],
      "source": [
        "def load_hospital_data(json_file):\n",
        "    \"\"\"\n",
        "    Load hospital data from a JSON file.\n",
        "\n",
        "    Args:\n",
        "    json_file (str): Path to the JSON file\n",
        "\n",
        "    Returns:\n",
        "    dict: Hospital data with hospital names as keys and bed counts as values\n",
        "    \"\"\"\n",
        "    with open(json_file, 'r') as f:\n",
        "        data = json.load(f)\n",
        "\n",
        "    hospital_beds = {}\n",
        "    for system in data:\n",
        "        for hospital in system['hospitals']:\n",
        "            hospital_beds[hospital['name']] = hospital['beds']\n",
        "\n",
        "    return hospital_beds"
      ]
    },
    {
      "cell_type": "markdown",
      "metadata": {
        "id": "71o3D-7VdVwZ"
      },
      "source": [
        "### Step 5: Main business logic\n",
        "\n",
        "Call BODE Score, BODE Risk functions for each patient.\n",
        "\n",
        "For each hospital, calculate Avg BODE score and Avg BODE risk and count the number of cases for each hospital."
      ]
    },
    {
      "cell_type": "code",
      "execution_count": 32,
      "metadata": {
        "id": "FogNAVbhdVwZ"
      },
      "outputs": [],
      "source": [
        "import csv\n",
        "\n",
        "def process_patient_data(patient_csv, hospital_json, patient_output_file, hospital_output_file):\n",
        "    # Load hospital data\n",
        "    hospital_beds = load_hospital_data(hospital_json)\n",
        "\n",
        "    # Initialize variables for hospital statistics\n",
        "    hospital_stats = {hospital: {'count': 0, 'total_score': 0, 'total_risk': 0} for hospital in hospital_beds}\n",
        "\n",
        "    # Process patient data\n",
        "    patient_results = []\n",
        "    with open(patient_csv, 'r') as csvfile:\n",
        "        reader = csv.DictReader(csvfile)\n",
        "        for row in reader:\n",
        "            name = row['NAME']\n",
        "            height_m = float(row['HEIGHT_M'])\n",
        "            weight_kg = float(row['WEIGHT_KG'])\n",
        "            fev_pct = float(row['fev_pct'])\n",
        "            dyspnea_description = row['dyspnea_description']\n",
        "            distance_meters = float(row['distance_in_meters'])\n",
        "            hospital = row['hospital']\n",
        "\n",
        "            bmi = calculate_bmi(height_m, weight_kg)\n",
        "            bode_score = calculate_bode_score(fev_pct, distance_meters, dyspnea_description, bmi)\n",
        "            bode_risk = calculate_bode_risk(bode_score)\n",
        "\n",
        "            patient_results.append([name, bode_score, bode_risk, hospital])\n",
        "\n",
        "            # Update hospital statistics\n",
        "            hospital_stats[hospital]['count'] += 1\n",
        "            hospital_stats[hospital]['total_score'] += bode_score\n",
        "            hospital_stats[hospital]['total_risk'] += bode_risk\n",
        "\n",
        "    # Write patient output file\n",
        "    with open(patient_output_file, 'w', newline='') as csvfile:\n",
        "        writer = csv.writer(csvfile)\n",
        "        writer.writerow(['NAME', 'BODE_SCORE', 'BODE_RISK', 'HOSPITAL'])\n",
        "        writer.writerows(patient_results)\n",
        "\n",
        "    # Calculate and write hospital output\n",
        "    hospital_output = []\n",
        "    for hospital, stats in hospital_stats.items():\n",
        "        copd_count = stats['count']\n",
        "        if copd_count > 0:\n",
        "            avg_score = stats['total_score'] / copd_count\n",
        "            avg_risk = stats['total_risk'] / copd_count\n",
        "            pct_cases_over_beds = (copd_count / hospital_beds[hospital]) * 100\n",
        "            hospital_output.append([\n",
        "                hospital,\n",
        "                copd_count,\n",
        "                round(pct_cases_over_beds, 2),\n",
        "                round(avg_score, 2),\n",
        "                round(avg_risk, 2)\n",
        "            ])\n",
        "\n",
        "    with open(hospital_output_file, 'w', newline='') as csvfile:\n",
        "        writer = csv.writer(csvfile)\n",
        "        writer.writerow(['HOSPITAL_NAME', 'COPD_COUNT', 'PCT_OF_COPD_CASES_OVER_BEDS', 'AVG_SCORE', 'AVG_RISK'])\n",
        "        writer.writerows(hospital_output)\n",
        "\n",
        "# Process the data\n",
        "process_patient_data('patient.csv', 'hospitals.json', 'patient_output.csv', 'hospital_output.csv')"
      ]
    }
  ],
  "metadata": {
    "language_info": {
      "name": "python"
    },
    "colab": {
      "provenance": [],
      "include_colab_link": true
    },
    "kernelspec": {
      "name": "python3",
      "display_name": "Python 3"
    }
  },
  "nbformat": 4,
  "nbformat_minor": 0
}