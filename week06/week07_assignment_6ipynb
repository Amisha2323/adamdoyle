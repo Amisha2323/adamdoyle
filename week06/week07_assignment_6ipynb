{
  "cells": [
    {
      "cell_type": "markdown",
      "metadata": {
        "id": "view-in-github",
        "colab_type": "text"
      },
      "source": [
        "<a href=\"https://colab.research.google.com/github/Amisha2323/adamdoyle/blob/main/week06/week07_assignment_6ipynb\" target=\"_parent\"><img src=\"https://colab.research.google.com/assets/colab-badge.svg\" alt=\"Open In Colab\"/></a>"
      ]
    },
    {
      "cell_type": "markdown",
      "metadata": {
        "id": "79lA0KdMd0zu"
      },
      "source": [
        "# Week 7 Assignment\n",
        "\n",
        "We've been working with different types of data structures in Python (dictionary, list, etc), how those are represented in JSON documents, and how to write code to access specific data elements. In this week's assignment, you will need to create your own JSON document to store information about yourself and the grades you've received from week 1 to week 4 and the week 6 quiz.  That is, everything you should have received a grade for.  Then you'll need to show me you know how to navigate the JSON in that file.\n",
        "\n",
        "Different from what we've done in the past, you do not have to write any functions or include any docstrings.  Just create some JSON and write some code.\n",
        "\n",
        "---"
      ]
    },
    {
      "cell_type": "markdown",
      "metadata": {
        "id": "7h0KSf-Dd0zv"
      },
      "source": [
        "## 7.1 Create a JSON file\n",
        "\n",
        "Create a JSON file that contains your name, email, year you were born, all of the grades you've received back so far, and a comment about what you thought was most challenging on each of those assignments.  This can be any structure you choose, but make sure it uses a dictionary and a list, and has at least two levels of hierarchy.  That is, it can't just be one big long list."
      ]
    },
    {
      "cell_type": "markdown",
      "metadata": {
        "id": "v5Fb-5zmd0zv"
      },
      "source": [
        "First, explain how your data structure is going to look..."
      ]
    },
    {
      "cell_type": "markdown",
      "metadata": {
        "id": "ta22Hp6Ad0zv"
      },
      "source": [
        "The top level will be a dictionary (object in JSON) containing the following keys:\n",
        "\n",
        "\"name\": A string with the person's name \"email\": A string with the email address \"birth_year\": An integer representing the year of birth \"assignments\": A list of dictionaries, where each dictionary represents an assignment\n",
        "\n",
        "Each assignment dictionary will have the following keys:\n",
        "\n",
        "\"name\": The name of the assignment \"grade\": The grade received \"challenge\": A comment about what was most challenging in that assignment\n",
        "\n",
        "This structure uses both a dictionary (the main object) and a list (the assignments), and has two levels of hierarchy (the main object and the nested assignment objects within the list).* Put your explanation here in text..."
      ]
    },
    {
      "cell_type": "markdown",
      "metadata": {
        "id": "H_7e2G0hd0zv"
      },
      "source": [
        "Then put the actual JSON you've created inside the multiline string below..."
      ]
    },
    {
      "cell_type": "code",
      "execution_count": 7,
      "metadata": {
        "id": "IPCIgr9xd0zv"
      },
      "outputs": [],
      "source": [
        "hds5210 = \"\"\"\n",
        "{\n",
        "\"name\": \"Amisha Meka\",\n",
        "\"email\": \"amisha.meka@slu.edu\",\n",
        "\"birth_year\": 1995,\n",
        "\"assignments\": [\n",
        "{\n",
        "\"name\": \"Week 2 Assignment\",\n",
        "\"grade\": 7,\n",
        "\"challenge\": \"Understanding the defining of functions\"\n",
        "},\n",
        "{\n",
        "\"name\": \"Week 3 Assignment\",\n",
        "\"grade\": 10,\n",
        "\"challenge\": \"Using the documentation to create a function\"\n",
        "},\n",
        "{\n",
        "\"name\": \"Week 4 Assignment\",\n",
        "\"grade\": 11,\n",
        "\"challenge\": \"Converting a list to dictionary\"\n",
        "},\n",
        "{\n",
        "\"name\": \"Week 5 Assignment\",\n",
        "\"grade\": null,\n",
        "\"challenge\": \"Doc Strings were challenging\"\n",
        "}\n",
        "]\n",
        "}\n",
        "\"\"\""
      ]
    },
    {
      "cell_type": "markdown",
      "metadata": {
        "id": "ObRJ5W0Bd0zv"
      },
      "source": [
        "## 7.2 Do something with your JSON\n",
        "\n",
        "Now use Python code to do something with the Json above.  Turn it into English text, but make sure that you use at least one loop to access some dict or list content of your JSON.  Below, I've provided some basic code to read in the string above as JSON and return a Python object.  Your job is to work with that data structure and print out the important information like your name, email, and how you did on each assignment."
      ]
    },
    {
      "cell_type": "code",
      "execution_count": 8,
      "metadata": {
        "id": "2IOHAmbkd0zw",
        "outputId": "a22eea32-be32-481e-a3a3-d77d5cd7062b",
        "colab": {
          "base_uri": "https://localhost:8080/"
        }
      },
      "outputs": [
        {
          "output_type": "stream",
          "name": "stdout",
          "text": [
            "My name is Amisha Meka and my email is amisha.meka@slu.edu. I was born in 1995. Here's a summary of my assignments:\n",
            "\n",
            "For Week 2 Assignment, I received a grade of 7/10. The most challenging aspect was: Understanding the defining of functions.\n",
            "For Week 3 Assignment, I received a grade of 10/10. The most challenging aspect was: Using the documentation to create a function.\n",
            "For Week 4 Assignment, I received a grade of 11/10. The most challenging aspect was: Converting a list to dictionary.\n",
            "For Week 5 Assignment, This assignment hasn't been graded yet. The most challenging aspect was: Doc Strings were challenging.\n",
            "\n"
          ]
        }
      ],
      "source": [
        "import json\n",
        "\n",
        "info = json.loads(hds5210)\n",
        "# Put your code to output a paragraph of English text here\n",
        "\n",
        "# Generate the summary\n",
        "summary = f\"My name is {info['name']} and my email is {info['email']}. I was born in {info['birth_year']}. Here's a summary of my assignments:\\n\\n\"\n",
        "\n",
        "for assignment in info['assignments']:\n",
        "    if assignment['grade'] is not None:\n",
        "        grade_info = f\"I received a grade of {assignment['grade']}/10.\"\n",
        "    else:\n",
        "        grade_info = \"This assignment hasn't been graded yet.\"\n",
        "\n",
        "    summary += f\"For {assignment['name']}, {grade_info} The most challenging aspect was: {assignment['challenge']}.\\n\"\n",
        "\n",
        "# Print the generated summary\n",
        "print(summary)"
      ]
    },
    {
      "cell_type": "markdown",
      "metadata": {
        "id": "d9d4XMrkd0zw"
      },
      "source": [
        "## 7.3 Reflect\n",
        "\n",
        "Write a paragraph on any reflections you have. Was this hard? Easy?  What parts were most challenging or easiest? What did you like or dislike about the assignment?  Share whatever important thoughts you have abou this assignment."
      ]
    },
    {
      "cell_type": "markdown",
      "source": [
        "In general this assignment proved to be quite comprehensive as it harmonized several crucial solutions into the programming field. The creation of the JSON structure was simple enough, much of the enjoyable work was to ensure that the structure checked all the requirements while integrating the image data. The Python part was more interesting as there was necessary skills to work with the JSON data, and condense the data into an English summary. I liked how I was able to use JSON in working with Python, solving the problem of both graded and ungraded assignments. The task was useful in showing the essence of data structure design and error handling which is increasingly necessary in project development. Not very challenging, but just right, the assignment put into practice the concepts of JSON and Python data manipulation as well as string formatting. As a whole it was a productive experience of learning where theory and application where to the best extent interlinked."
      ],
      "metadata": {
        "id": "VT2Ti65Res2z"
      }
    },
    {
      "cell_type": "markdown",
      "metadata": {
        "id": "SrNrBtyad0zw"
      },
      "source": [
        "---\n",
        "\n",
        "# Example\n",
        "\n",
        "Below is an example of something similar, but this uses information my and my friend's kids instead of grades."
      ]
    },
    {
      "cell_type": "code",
      "execution_count": 9,
      "metadata": {
        "id": "7TIXN_bad0zw",
        "outputId": "887d8578-aa06-4f4d-d919-585699b1c7ff",
        "colab": {
          "base_uri": "https://localhost:8080/"
        }
      },
      "outputs": [
        {
          "output_type": "stream",
          "name": "stdout",
          "text": [
            "Hi, my name is Paul. I've got 3 kids. Their names are Ellie, Ada, Teddy.\n",
            "My friend, Anny has 1 kids. That's fewer than me. Their names are 1\n"
          ]
        }
      ],
      "source": [
        "hds5210 = \"\"\"\n",
        "{\n",
        "    \"me\": {\n",
        "        \"name\": \"Paul\",\n",
        "        \"kids\": [\"Ellie\", \"Ada\", \"Teddy\"]\n",
        "    },\n",
        "    \"friend\": {\n",
        "        \"name\": \"Anny\",\n",
        "        \"kids\": [\"Abby\"]\n",
        "    }\n",
        "}\n",
        "\"\"\"\n",
        "\n",
        "import json\n",
        "\n",
        "info = json.loads(hds5210)\n",
        "\n",
        "me = info[\"me\"][\"name\"]\n",
        "my_kids_count = len(info[\"me\"][\"kids\"])\n",
        "kids_list = \", \".join(info[\"me\"][\"kids\"])\n",
        "friend = info[\"friend\"][\"name\"]\n",
        "friends_kid_count = len(info[\"friend\"][\"kids\"])\n",
        "friend_kids = \", \".join(info[\"friend\"][\"kids\"])\n",
        "compare = \"more\" if friends_kid_count > my_kids_count else \"fewer\"\n",
        "\n",
        "print(f\"Hi, my name is {me}. I've got {my_kids_count} kids. Their names are {kids_list}.\")\n",
        "print(f\"My friend, {friend} has {friends_kid_count} kids. That's {compare} than me. Their names are {friends_kid_count}\")"
      ]
    }
  ],
  "metadata": {
    "kernelspec": {
      "display_name": "Python 3",
      "language": "python",
      "name": "python3"
    },
    "language_info": {
      "codemirror_mode": {
        "name": "ipython",
        "version": 3
      },
      "file_extension": ".py",
      "mimetype": "text/x-python",
      "name": "python",
      "nbconvert_exporter": "python",
      "pygments_lexer": "ipython3",
      "version": "3.9.16"
    },
    "colab": {
      "provenance": [],
      "include_colab_link": true
    }
  },
  "nbformat": 4,
  "nbformat_minor": 0
}